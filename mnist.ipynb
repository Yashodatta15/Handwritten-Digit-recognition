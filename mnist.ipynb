{
 "cells": [
  {
   "cell_type": "markdown",
   "id": "587c8efa",
   "metadata": {},
   "source": [
    "# Author :- Yashodatta Patil\n",
    "## Task :-  Handwritten Digit Recognition system using the MNIST dataset with a Neural Network\n",
    "**psyliq data scientist Internship**"
   ]
  },
  {
   "cell_type": "markdown",
   "id": "3b54291a",
   "metadata": {},
   "source": [
    "<p style=color:black;font-family:newtimeroman;font-size:150%;text-align:center;border-radius: 15px 50px;overflow:hidden;font-weight:100\">Introducation</p> "
   ]
  },
  {
   "cell_type": "markdown",
   "id": "72d80eaa",
   "metadata": {},
   "source": [
    "**This project focuses on Handwritten Digit Recognition using a Neural Network, employing the MNIST dataset. By leveraging the power of machine learning, we aim to unravel the complexities of digit classification and offer insights into the practical implementation of image recognition systems.**"
   ]
  },
  {
   "cell_type": "markdown",
   "id": "13ffad6b",
   "metadata": {},
   "source": [
    "<p style=color:black;font-family:newtimeroman;font-size:150%;text-align:center;border-radius: 15px 50px;overflow:hidden;font-weight:100\">Import libraries</p> "
   ]
  },
  {
   "cell_type": "code",
   "execution_count": 1,
   "id": "0cd24c80",
   "metadata": {},
   "outputs": [],
   "source": [
    "import numpy as np\n",
    "import pandas as pd\n",
    "import matplotlib.pyplot as plt\n",
    "import tensorflow as tf\n",
    "from tensorflow import keras\n",
    "from keras.models import load_model\n",
    "import cv2"
   ]
  },
  {
   "cell_type": "markdown",
   "id": "6a7cb1b5",
   "metadata": {},
   "source": [
    "<p style=color:black;font-family:newtimeroman;font-size:150%;text-align:center;border-radius: 15px 50px;overflow:hidden;font-weight:100\">Import Dataset</p> "
   ]
  },
  {
   "cell_type": "code",
   "execution_count": 2,
   "id": "726e3f12",
   "metadata": {},
   "outputs": [],
   "source": [
    "(x_train, y_train), (x_test, y_test) = keras.datasets.mnist.load_data()"
   ]
  },
  {
   "cell_type": "code",
   "execution_count": 3,
   "id": "ae002bed",
   "metadata": {},
   "outputs": [
    {
     "data": {
      "text/plain": [
       "(60000, 28, 28)"
      ]
     },
     "execution_count": 3,
     "metadata": {},
     "output_type": "execute_result"
    }
   ],
   "source": [
    "x_train.shape"
   ]
  },
  {
   "cell_type": "code",
   "execution_count": 4,
   "id": "75a6889d",
   "metadata": {},
   "outputs": [
    {
     "name": "stdout",
     "output_type": "stream",
     "text": [
      "(10000, 28, 28) (10000,)\n"
     ]
    }
   ],
   "source": [
    "print(x_test.shape, y_test.shape)"
   ]
  },
  {
   "cell_type": "markdown",
   "id": "24d7e445",
   "metadata": {},
   "source": [
    "*Let's test any data sample to check if it is corect data or not*"
   ]
  },
  {
   "cell_type": "code",
   "execution_count": 5,
   "id": "c5231fc7",
   "metadata": {},
   "outputs": [
    {
     "name": "stdout",
     "output_type": "stream",
     "text": [
      "label= 5\n"
     ]
    },
    {
     "data": {
      "text/plain": [
       "<matplotlib.image.AxesImage at 0x226b015dd30>"
      ]
     },
     "execution_count": 5,
     "metadata": {},
     "output_type": "execute_result"
    },
    {
     "data": {
      "image/png": "[encoded data removed]",
      "text/plain": [
       "<Figure size 640x480 with 1 Axes>"
      ]
     },
     "metadata": {},
     "output_type": "display_data"
    }
   ],
   "source": [
    "print(\"label=\",y_train[0])\n",
    "plt.imshow(x_train[0])"
   ]
  },
  {
   "cell_type": "markdown",
   "id": "f4835f94",
   "metadata": {},
   "source": [
    "<p style=color:black;font-family:newtimeroman;font-size:150%;text-align:center;border-radius: 15px 50px;overflow:hidden;font-weight:100\">Data Preprocessing</p> "
   ]
  },
  {
   "cell_type": "code",
   "execution_count": 6,
   "id": "7c89daef",
   "metadata": {},
   "outputs": [
    {
     "name": "stdout",
     "output_type": "stream",
     "text": [
      "255 0 255 0\n"
     ]
    }
   ],
   "source": [
    "print(x_train.max(), x_train.min(), x_test.max(), x_test.min())"
   ]
  },
  {
   "cell_type": "code",
   "execution_count": 7,
   "id": "6b95e322",
   "metadata": {},
   "outputs": [
    {
     "data": {
      "text/plain": [
       "array([5, 0, 4, 1, 9, 2], dtype=uint8)"
      ]
     },
     "execution_count": 7,
     "metadata": {},
     "output_type": "execute_result"
    }
   ],
   "source": [
    "y_train[:6]"
   ]
  },
  {
   "cell_type": "markdown",
   "id": "c0e2f4ef",
   "metadata": {},
   "source": [
    "- The training data ranges between 0-255, now we will rescale the feature values to be in the range [0, 1]"
   ]
  },
  {
   "cell_type": "code",
   "execution_count": 8,
   "id": "11106605",
   "metadata": {},
   "outputs": [],
   "source": [
    "x_train_processed, x_test_processed = x_train / 255.0, x_test / 255.0"
   ]
  },
  {
   "cell_type": "code",
   "execution_count": 9,
   "id": "63679a1d",
   "metadata": {},
   "outputs": [
    {
     "name": "stdout",
     "output_type": "stream",
     "text": [
      "1.0 0.0 1.0 0.0\n"
     ]
    }
   ],
   "source": [
    "print(x_train_processed.max(), x_train_processed.min(), x_test_processed.max(), x_test_processed.min())"
   ]
  },
  {
   "cell_type": "markdown",
   "id": "a2ffb6c1",
   "metadata": {},
   "source": [
    "<p style=color:black;font-family:newtimeroman;font-size:150%;text-align:center;border-radius: 15px 50px;overflow:hidden;font-weight:100\">Build a Classifier using MLP (Multi Layer perceptron)</p> "
   ]
  },
  {
   "cell_type": "code",
   "execution_count": 10,
   "id": "c11dadb9",
   "metadata": {},
   "outputs": [],
   "source": [
    "from keras.models import Sequential\n",
    "from keras.layers import Convolution2D, MaxPooling2D\n",
    "from keras.layers import Flatten, Dense,Dropout\n",
    "from keras.optimizers import Adam"
   ]
  },
  {
   "cell_type": "code",
   "execution_count": 11,
   "id": "d1a560dc",
   "metadata": {},
   "outputs": [],
   "source": [
    "model = keras.models.Sequential([\n",
    "    keras.layers.Flatten(input_shape=(28, 28)),\n",
    "    keras.layers.Dense(128, activation='relu'),\n",
    "    keras.layers.Dropout(0.2),\n",
    "    keras.layers.Dense(10, activation='softmax')\n",
    "])"
   ]
  },
  {
   "cell_type": "code",
   "execution_count": 12,
   "id": "7ee8caf9",
   "metadata": {},
   "outputs": [
    {
     "name": "stdout",
     "output_type": "stream",
     "text": [
      "Model: \"sequential\"\n",
      "_________________________________________________________________\n",
      " Layer (type)                Output Shape              Param #   \n",
      "=================================================================\n",
      " flatten (Flatten)           (None, 784)               0         \n",
      "                                                                 \n",
      " dense (Dense)               (None, 128)               100480    \n",
      "                                                                 \n",
      " dropout (Dropout)           (None, 128)               0         \n",
      "                                                                 \n",
      " dense_1 (Dense)             (None, 10)                1290      \n",
      "                                                                 \n",
      "=================================================================\n",
      "Total params: 101,770\n",
      "Trainable params: 101,770\n",
      "Non-trainable params: 0\n",
      "_________________________________________________________________\n"
     ]
    }
   ],
   "source": [
    "model.summary()"
   ]
  },
  {
   "cell_type": "markdown",
   "id": "44f68158",
   "metadata": {},
   "source": [
    "<p style=color:black;font-family:newtimeroman;font-size:150%;text-align:center;border-radius: 15px 50px;overflow:hidden;font-weight:100\">Compile the Model</p> "
   ]
  },
  {
   "cell_type": "code",
   "execution_count": 13,
   "id": "a8bd9066",
   "metadata": {},
   "outputs": [],
   "source": [
    "model.compile(optimizer='adam',\n",
    "              loss='sparse_categorical_crossentropy',\n",
    "              metrics=['accuracy'])"
   ]
  },
  {
   "cell_type": "markdown",
   "id": "b11a50d8",
   "metadata": {},
   "source": [
    "<p style=color:black;font-family:newtimeroman;font-size:150%;text-align:center;border-radius: 15px 50px;overflow:hidden;font-weight:100\">Train and Test the model.</p> "
   ]
  },
  {
   "cell_type": "code",
   "execution_count": 14,
   "id": "e08b1af9",
   "metadata": {},
   "outputs": [
    {
     "name": "stdout",
     "output_type": "stream",
     "text": [
      "Epoch 1/5\n",
      "1875/1875 [==============================] - 11s 4ms/step - loss: 0.2938 - accuracy: 0.9143\n",
      "Epoch 2/5\n",
      "1875/1875 [==============================] - 7s 4ms/step - loss: 0.1448 - accuracy: 0.9571\n",
      "Epoch 3/5\n",
      "1875/1875 [==============================] - 7s 4ms/step - loss: 0.1073 - accuracy: 0.9679\n",
      "Epoch 4/5\n",
      "1875/1875 [==============================] - 7s 4ms/step - loss: 0.0883 - accuracy: 0.9724\n",
      "Epoch 5/5\n",
      "1875/1875 [==============================] - 7s 3ms/step - loss: 0.0751 - accuracy: 0.9763\n"
     ]
    },
    {
     "data": {
      "text/plain": [
       "<keras.callbacks.History at 0x226cbde4ac0>"
      ]
     },
     "execution_count": 14,
     "metadata": {},
     "output_type": "execute_result"
    }
   ],
   "source": [
    "history = model.fit(x_train_processed, y_train, epochs=5)\n",
    "history"
   ]
  },
  {
   "cell_type": "markdown",
   "id": "82281dab",
   "metadata": {},
   "source": [
    "<p style=color:black;font-family:newtimeroman;font-size:150%;text-align:center;border-radius: 15px 50px;overflow:hidden;font-weight:100\">Evaluation.</p> "
   ]
  },
  {
   "cell_type": "code",
   "execution_count": 15,
   "id": "cd5f024a",
   "metadata": {},
   "outputs": [
    {
     "name": "stdout",
     "output_type": "stream",
     "text": [
      "313/313 [==============================] - 1s 2ms/step - loss: 0.0736 - accuracy: 0.9779\n"
     ]
    }
   ],
   "source": [
    "test_loss, test_acc = model.evaluate(x_test_processed, y_test)"
   ]
  },
  {
   "cell_type": "code",
   "execution_count": 16,
   "id": "fc165fc3",
   "metadata": {},
   "outputs": [
    {
     "name": "stdout",
     "output_type": "stream",
     "text": [
      "Test Loss:  0.07361837476491928\n",
      "Test Accuracy:  0.9779000282287598\n"
     ]
    }
   ],
   "source": [
    "print(\"Test Loss: \", test_loss)\n",
    "print(\"Test Accuracy: \", test_acc)"
   ]
  },
  {
   "cell_type": "markdown",
   "id": "a30a87ed",
   "metadata": {},
   "source": [
    "- Access Loss and Accuracy details from the training history"
   ]
  },
  {
   "cell_type": "code",
   "execution_count": 17,
   "id": "7d122724",
   "metadata": {},
   "outputs": [],
   "source": [
    "training_loss = history.history['loss']\n",
    "training_accuracy = history.history['accuracy']"
   ]
  },
  {
   "cell_type": "code",
   "execution_count": 18,
   "id": "7f312ad3",
   "metadata": {},
   "outputs": [
    {
     "data": {
      "image/png": "[encoded data removed]",
      "text/plain": [
       "<Figure size 800x300 with 2 Axes>"
      ]
     },
     "metadata": {},
     "output_type": "display_data"
    }
   ],
   "source": [
    "# Create subplots for loss and accuracy\n",
    "plt.figure(figsize=(8, 3))\n",
    "# Loss subplot\n",
    "plt.subplot(1, 2, 1)\n",
    "plt.plot(training_loss, label='Training Loss')\n",
    "plt.xlabel('Epochs')\n",
    "plt.ylabel('Loss')\n",
    "plt.legend()\n",
    "\n",
    "# Accuracy subplot\n",
    "plt.subplot(1, 2, 2)\n",
    "plt.plot(training_accuracy, label='Training Accuracy')\n",
    "plt.xlabel('Epochs')\n",
    "plt.ylabel('Accuracy')\n",
    "plt.legend()\n",
    "\n",
    "plt.show()"
   ]
  },
  {
   "cell_type": "markdown",
   "id": "507d7c62",
   "metadata": {},
   "source": [
    "- As we can see in the graph, loss has been decreased with each epoch where accuracy has been increased"
   ]
  },
  {
   "cell_type": "markdown",
   "id": "191e5f6b",
   "metadata": {},
   "source": [
    "### Let's make predictions on the test test and check whether those predictions are correct or not"
   ]
  },
  {
   "cell_type": "code",
   "execution_count": 19,
   "id": "6e40a213",
   "metadata": {},
   "outputs": [
    {
     "name": "stdout",
     "output_type": "stream",
     "text": [
      "313/313 [==============================] - 1s 2ms/step\n"
     ]
    },
    {
     "data": {
      "text/plain": [
       "1"
      ]
     },
     "execution_count": 19,
     "metadata": {},
     "output_type": "execute_result"
    }
   ],
   "source": [
    "model.predict(x_test_processed)[2].argmax()"
   ]
  },
  {
   "cell_type": "code",
   "execution_count": 20,
   "id": "7283785c",
   "metadata": {},
   "outputs": [
    {
     "data": {
      "text/plain": [
       "<matplotlib.image.AxesImage at 0x226d947e8e0>"
      ]
     },
     "execution_count": 20,
     "metadata": {},
     "output_type": "execute_result"
    },
    {
     "data": {
      "image/png": "[encoded data removed]",
      "text/plain": [
       "<Figure size 640x480 with 1 Axes>"
      ]
     },
     "metadata": {},
     "output_type": "display_data"
    }
   ],
   "source": [
    "plt.imshow(x_test[2])"
   ]
  },
  {
   "cell_type": "code",
   "execution_count": 21,
   "id": "eff79e3b",
   "metadata": {},
   "outputs": [
    {
     "data": {
      "text/plain": [
       "1"
      ]
     },
     "execution_count": 21,
     "metadata": {},
     "output_type": "execute_result"
    }
   ],
   "source": [
    "y_test[2]"
   ]
  },
  {
   "cell_type": "code",
   "execution_count": 22,
   "id": "1d5b7d76",
   "metadata": {},
   "outputs": [
    {
     "data": {
      "text/plain": [
       "7"
      ]
     },
     "execution_count": 22,
     "metadata": {},
     "output_type": "execute_result"
    }
   ],
   "source": [
    "y_test[0]"
   ]
  },
  {
   "cell_type": "code",
   "execution_count": 23,
   "id": "bcaf9a9b",
   "metadata": {},
   "outputs": [
    {
     "name": "stdout",
     "output_type": "stream",
     "text": [
      "313/313 [==============================] - 1s 2ms/step\n"
     ]
    },
    {
     "data": {
      "image/png": "[encoded data removed]",
      "text/plain": [
       "<Figure size 1200x500 with 6 Axes>"
      ]
     },
     "metadata": {},
     "output_type": "display_data"
    }
   ],
   "source": [
    "predictions = model.predict(x_test_processed)\n",
    "plt.figure(figsize=(12, 5))\n",
    "for i in range(6):\n",
    "    plt.subplot(1, 6, i+1)\n",
    "    prediction = predictions[i].argmax()\n",
    "    image =plt.imshow(x_test_processed[i])\n",
    "    plt.xlabel('prediction: '+str(prediction))\n",
    "    plt.xticks([])  # Hide the x-axis scale and ticks\n",
    "    plt.yticks([])  # Hide the y-axis scale and ticks\n",
    "    "
   ]
  },
  {
   "cell_type": "code",
   "execution_count": null,
   "id": "f7e2a68e",
   "metadata": {},
   "outputs": [],
   "source": []
  }
 ],
 "metadata": {
  "kernelspec": {
   "display_name": "Python 3 (ipykernel)",
   "language": "python",
   "name": "python3"
  },
  "language_info": {
   "codemirror_mode": {
    "name": "ipython",
    "version": 3
   },
   "file_extension": ".py",
   "mimetype": "text/x-python",
   "name": "python",
   "nbconvert_exporter": "python",
   "pygments_lexer": "ipython3",
   "version": "3.9.13"
  }
 },
 "nbformat": 4,
 "nbformat_minor": 5
}
